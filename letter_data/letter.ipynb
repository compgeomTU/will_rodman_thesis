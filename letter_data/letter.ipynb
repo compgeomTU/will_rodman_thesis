{
 "cells": [
  {
   "cell_type": "code",
   "execution_count": 34,
   "metadata": {},
   "outputs": [],
   "source": [
    "# standard library\n",
    "import numpy as np\n",
    "import pandas as pd\n",
    "import matplotlib.pyplot as plt\n",
    "import os\n",
    "import json\n",
    "\n",
    "# local classes\n",
    "os.chdir('../')\n",
    "from TraversalDistance.Graph import Graph\n",
    "from TraversalDistance.FreeSpaceGraph import FreeSpaceGraph\n",
    "from TraversalDistance.Visualize import Visualize\n",
    "from TraversalDistance.BinarySearch import BinarySearch\n",
    "os.chdir('letter_data')"
   ]
  },
  {
   "cell_type": "code",
   "execution_count": 36,
   "metadata": {},
   "outputs": [],
   "source": [
    "def json_to_graph(json_data):    \n",
    "    graph = Graph()\n",
    "    graph.name = json_data['gxl']['graph'][0]['$']['id']\n",
    "    \n",
    "    # Extract X, Y coordinates from 'node' elements.\n",
    "    for node_data in json_data['gxl']['graph'][0]['node']:\n",
    "        node_id = int(node_data['$']['id'][1:])\n",
    "        x_coord = float(node_data['attr'][0]['float'][0])\n",
    "        y_coord = float(node_data['attr'][1]['float'][0])\n",
    "        graph.addNode(node_id, x_coord, y_coord)\n",
    "\n",
    "    # Extract edges from 'edge' elements.\n",
    "    for i, edge_data in enumerate(json_data['gxl']['graph'][0]['edge'], 1):\n",
    "        from_node = int(edge_data['$']['from'][1:])\n",
    "        to_node = int(edge_data['$']['to'][1:])\n",
    "        graph.connectTwoNodes(i, from_node, to_node)\n",
    "        \n",
    "    return graph"
   ]
  },
  {
   "cell_type": "code",
   "execution_count": 59,
   "metadata": {},
   "outputs": [],
   "source": [
    "file_names = os.listdir(\"LOW\")\n",
    "graphs = list()\n",
    "\n",
    "for file_name in file_names:\n",
    "    if file_name.endswith('.json'):\n",
    "        try:\n",
    "            json_graph = json.load(open(f\"LOW/{file_name}\"))\n",
    "            graph = json_to_graph(json_graph)\n",
    "            graphs.append(graph)\n",
    "        except: pass"
   ]
  },
  {
   "cell_type": "code",
   "execution_count": 61,
   "metadata": {},
   "outputs": [
    {
     "data": {
      "image/png": "[encoded data removed]",
      "text/plain": [
       "<Figure size 432x288 with 1 Axes>"
      ]
     },
     "metadata": {
      "needs_background": "light"
     },
     "output_type": "display_data"
    }
   ],
   "source": [
    "graphs[0].Plot2MatPlotLib()"
   ]
  }
 ],
 "metadata": {
  "kernelspec": {
   "display_name": ".venv",
   "language": "python",
   "name": "python3"
  },
  "language_info": {
   "codemirror_mode": {
    "name": "ipython",
    "version": 3
   },
   "file_extension": ".py",
   "mimetype": "text/x-python",
   "name": "python",
   "nbconvert_exporter": "python",
   "pygments_lexer": "ipython3",
   "version": "3.9.18"
  },
  "orig_nbformat": 4,
  "vscode": {
   "interpreter": {
    "hash": "7046c1012c32b6598d3de8fc9837e48958eb0ce04934b61994dab98503ac34ef"
   }
  }
 },
 "nbformat": 4,
 "nbformat_minor": 2
}
