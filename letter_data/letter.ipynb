{
 "cells": [
  {
   "cell_type": "code",
   "execution_count": 1,
   "metadata": {},
   "outputs": [],
   "source": [
    "# standard library\n",
    "import numpy as np\n",
    "import pandas as pd\n",
    "import matplotlib.pyplot as plt\n",
    "import os\n",
    "import json\n",
    "\n",
    "# local classes\n",
    "os.chdir('../')\n",
    "from TraversalDistance.Graph import Graph\n",
    "from TraversalDistance.FreeSpaceGraph import FreeSpaceGraph\n",
    "from TraversalDistance.Visualize import Visualize\n",
    "from TraversalDistance.BinarySearch import BinarySearch\n",
    "os.chdir('letter_data')"
   ]
  },
  {
   "cell_type": "code",
   "execution_count": 2,
   "metadata": {},
   "outputs": [],
   "source": [
    "def json_to_graph(json_data):    \n",
    "    graph = Graph()\n",
    "    graph.name = json_data['gxl']['graph'][0]['$']['id'][0]\n",
    "    \n",
    "    # Extract X, Y coordinates from 'node' elements.\n",
    "    for node_data in json_data['gxl']['graph'][0]['node']:\n",
    "        node_id = int(node_data['$']['id'][1:])\n",
    "        x_coord = float(node_data['attr'][0]['float'][0])\n",
    "        y_coord = float(node_data['attr'][1]['float'][0])\n",
    "        graph.addNode(node_id, x_coord, y_coord)\n",
    "\n",
    "    # Extract edges from 'edge' elements.\n",
    "    for i, edge_data in enumerate(json_data['gxl']['graph'][0]['edge'], 1):\n",
    "        from_node = int(edge_data['$']['from'][1:])\n",
    "        to_node = int(edge_data['$']['to'][1:])\n",
    "        graph.connectTwoNodes(i, from_node, to_node)\n",
    "        \n",
    "    return graph, graph.name"
   ]
  },
  {
   "cell_type": "code",
   "execution_count": 3,
   "metadata": {},
   "outputs": [
    {
     "name": "stdout",
     "output_type": "stream",
     "text": [
      "AssertionError 'edge': Fail to parse VP1_0125.json.\n",
      "AssertionError 'edge': Fail to parse LP1_0103.json.\n",
      "AssertionError 'gxl': Fail to parse test.json.\n",
      "AssertionError 'edge': Fail to parse LP1_0136.json.\n",
      "AssertionError 'edge': Fail to parse LP1_0086.json.\n",
      "AssertionError 'edge': Fail to parse LP1_0068.json.\n",
      "AssertionError 'edge': Fail to parse VP1_0086.json.\n",
      "AssertionError 'gxl': Fail to parse validation.json.\n",
      "AssertionError 'gxl': Fail to parse train.json.\n",
      "AssertionError 'edge': Fail to parse IP1_0110.json.\n"
     ]
    }
   ],
   "source": [
    "file_names = os.listdir(\"LOW\")\n",
    "graphs = dict()\n",
    "\n",
    "for index, file_name in enumerate(file_names):\n",
    "    if file_name.endswith('.json'):\n",
    "        try:\n",
    "            json_graph = json.load(open(f\"LOW/{file_name}\"))\n",
    "            graph, name = json_to_graph(json_graph)\n",
    "            graph.id = index\n",
    "            if name in graphs.keys():\n",
    "                graphs[name].append(graph)\n",
    "            else:\n",
    "                graphs[name] = [graph]\n",
    "                \n",
    "        except Exception as error: \n",
    "            print(f\"AssertionError {error}: Fail to parse {file_name}.\")"
   ]
  },
  {
   "cell_type": "code",
   "execution_count": 4,
   "metadata": {},
   "outputs": [
    {
     "name": "stdout",
     "output_type": "stream",
     "text": [
      "T: 150\n",
      "A: 150\n",
      "X: 150\n",
      "H: 150\n",
      "Y: 150\n",
      "I: 149\n",
      "E: 150\n",
      "N: 150\n",
      "L: 146\n",
      "M: 150\n",
      "V: 148\n",
      "Z: 150\n",
      "F: 150\n",
      "W: 150\n",
      "K: 150\n"
     ]
    }
   ],
   "source": [
    "for key in graphs.keys():\n",
    "    count = len(graphs[key])\n",
    "    print(f\"{key}: {count}\")"
   ]
  },
  {
   "cell_type": "code",
   "execution_count": 5,
   "metadata": {},
   "outputs": [
    {
     "name": "stdout",
     "output_type": "stream",
     "text": [
      "Computing graph_1 by graph_3 (traversed) minimum epsilon: 0.673828125\n",
      "20\n",
      "Computing graph_2 by graph_1 (traversed) minimum epsilon: 0.625\n",
      "31\n",
      "Computing graph_1 by graph_2 (traversed) minimum epsilon: 0.625\n"
     ]
    }
   ],
   "source": [
    "# Sample\n",
    "g1, g2, g3 = graphs['Y'][0], graphs['Y'][1], graphs['Y'][0]\n",
    "g1.name, g2.name, g3.name = 1, 2, 3\n",
    "# comparing two identical graphs\n",
    "binary_search = BinarySearch(g1, g3, left=0, right=5, precision=0.01)\n",
    "epsilon = binary_search.search()\n",
    "print(\"Computing graph_1 by graph_3 (traversed) minimum epsilon:\", epsilon)\n",
    "print(len(binary_search.cell_boundaries))\n",
    "\n",
    "# comparing graph two and graph one\n",
    "binary_search = BinarySearch(g1, g2, left=0, right=5, precision=0.01)\n",
    "epsilon = binary_search.search()\n",
    "print(\"Computing graph_2 by graph_1 (traversed) minimum epsilon:\", epsilon)\n",
    "print(len(binary_search.cell_boundaries))\n",
    "\n",
    "# comparing graph one and graph two\n",
    "binary_search = BinarySearch(g2, g1, left=0, right=5, precision=0.01)\n",
    "epsilon = binary_search.search()\n",
    "print(\"Computing graph_1 by graph_2 (traversed) minimum epsilon:\", epsilon)"
   ]
  },
  {
   "cell_type": "code",
   "execution_count": 6,
   "metadata": {},
   "outputs": [
    {
     "data": {
      "text/plain": [
       "(<Figure size 432x288 with 1 Axes>,\n",
       " <AxesSubplot:title={'center':'Epsilon: 1'}>)"
      ]
     },
     "execution_count": 6,
     "metadata": {},
     "output_type": "execute_result"
    },
    {
     "data": {
      "image/png": "[encoded data removed]",
      "text/plain": [
       "<Figure size 432x288 with 1 Axes>"
      ]
     },
     "metadata": {
      "needs_background": "light"
     },
     "output_type": "display_data"
    }
   ],
   "source": [
    "visual = Visualize(g1, g1, epsilon=1)\n",
    "visual.plot_freespace()"
   ]
  }
 ],
 "metadata": {
  "kernelspec": {
   "display_name": ".venv",
   "language": "python",
   "name": "python3"
  },
  "language_info": {
   "codemirror_mode": {
    "name": "ipython",
    "version": 3
   },
   "file_extension": ".py",
   "mimetype": "text/x-python",
   "name": "python",
   "nbconvert_exporter": "python",
   "pygments_lexer": "ipython3",
   "version": "3.9.18"
  },
  "orig_nbformat": 4,
  "vscode": {
   "interpreter": {
    "hash": "7046c1012c32b6598d3de8fc9837e48958eb0ce04934b61994dab98503ac34ef"
   }
  }
 },
 "nbformat": 4,
 "nbformat_minor": 2
}
