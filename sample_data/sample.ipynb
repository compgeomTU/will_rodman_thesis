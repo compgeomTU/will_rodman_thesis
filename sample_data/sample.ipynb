{
 "cells": [
  {
   "cell_type": "code",
   "execution_count": 9,
   "metadata": {},
   "outputs": [],
   "source": [
    "# standard library\n",
    "import os\n",
    "\n",
    "# local classes\n",
    "os.chdir('../')\n",
    "from TraversalDistance.Graph import Graph\n",
    "from TraversalDistance.FreeSpaceGraph import FreeSpaceGraph\n",
    "from TraversalDistance.Visualize import Visualize\n",
    "from TraversalDistance.BinarySearch import BinarySearch\n",
    "os.chdir('sample_data')"
   ]
  },
  {
   "cell_type": "code",
   "execution_count": 10,
   "metadata": {},
   "outputs": [],
   "source": [
    "path = \"square/aside\"\n",
    "path = 'paris/vehicle'\n",
    "path = \"G/G\"\n",
    "path = \"paris/arc_de_triomphe_copy\"\n",
    "path = \"H/H\"\n",
    "path = \"paris/arc_de_triomphe\"\n",
    "path = \"square/side\"\n",
    "path = \"actinia/Pact1_actinia_4\"\n",
    "path = \"actinia/Pact1_actinia_3\"\n",
    "\n",
    "path = \"square/aside\""
   ]
  },
  {
   "cell_type": "code",
   "execution_count": 11,
   "metadata": {},
   "outputs": [
    {
     "data": {
      "image/png": "[encoded data removed]",
      "text/plain": [
       "<Figure size 432x288 with 1 Axes>"
      ]
     },
     "metadata": {
      "needs_background": "light"
     },
     "output_type": "display_data"
    },
    {
     "data": {
      "image/png": "[encoded data removed]",
      "text/plain": [
       "<Figure size 432x288 with 1 Axes>"
      ]
     },
     "metadata": {
      "needs_background": "light"
     },
     "output_type": "display_data"
    }
   ],
   "source": [
    "g = Graph(path, id=1)\n",
    "g.Plot2MatPlotLib()\n",
    "\n",
    "h = Graph(path, id=2)\n",
    "h.Plot2MatPlotLib()"
   ]
  },
  {
   "cell_type": "code",
   "execution_count": 12,
   "metadata": {},
   "outputs": [
    {
     "name": "stdout",
     "output_type": "stream",
     "text": [
      "1 [2]\n",
      "2 [1]\n",
      "0 []\n"
     ]
    }
   ],
   "source": [
    "for node, link in g.nodeLink.items():\n",
    "    print(node, link)"
   ]
  },
  {
   "cell_type": "code",
   "execution_count": 13,
   "metadata": {},
   "outputs": [
    {
     "name": "stdout",
     "output_type": "stream",
     "text": [
      "Check: True\n"
     ]
    }
   ],
   "source": [
    "e = 0.001\n",
    "fsg = FreeSpaceGraph(g, h, e)\n",
    "c = fsg.DFSTraversalDist()\n",
    "print(\"Check:\", c)"
   ]
  },
  {
   "cell_type": "code",
   "execution_count": 6,
   "metadata": {},
   "outputs": [
    {
     "name": "stdout",
     "output_type": "stream",
     "text": [
      "(2, 1, 1, 1)   -->   V_ID: 1 E_ID: 1 start: 0 end: 0   -->   0 0.0001   -->   True\n",
      "(1, 1, 2, 1)   -->   V_ID: 1 E_ID: 1 start: 0 end: 1   -->   0 0.0001   -->   True\n",
      "(2, 2, 1, 1)   -->   V_ID: 2 E_ID: 1 start: 0 end: 1   -->   0.9999000000003536 1   -->   True\n",
      "(1, 2, 2, 1)   -->   V_ID: 2 E_ID: 1 start: 0 end: 1   -->   0.9999000000003536 1   -->   True\n"
     ]
    }
   ],
   "source": [
    "for k, v, in fsg.cell_boundaries.items():\n",
    "    print(k, \"  -->  \", v.print_cellboundary(), \"  -->  \", v.start_fs, v.end_fs, \"  -->  \", v.visited)"
   ]
  },
  {
   "cell_type": "code",
   "execution_count": 7,
   "metadata": {},
   "outputs": [
    {
     "name": "stdout",
     "output_type": "stream",
     "text": [
      "Search: 0.06103515625\n"
     ]
    }
   ],
   "source": [
    "search = BinarySearch(g, h, left=0, right=1000, precision=0.1)\n",
    "search.search()\n",
    "print(\"Search:\", search.epsilon)"
   ]
  }
 ],
 "metadata": {
  "kernelspec": {
   "display_name": ".venv",
   "language": "python",
   "name": "python3"
  },
  "language_info": {
   "codemirror_mode": {
    "name": "ipython",
    "version": 3
   },
   "file_extension": ".py",
   "mimetype": "text/x-python",
   "name": "python",
   "nbconvert_exporter": "python",
   "pygments_lexer": "ipython3",
   "version": "3.9.18"
  },
  "orig_nbformat": 4,
  "vscode": {
   "interpreter": {
    "hash": "7046c1012c32b6598d3de8fc9837e48958eb0ce04934b61994dab98503ac34ef"
   }
  }
 },
 "nbformat": 4,
 "nbformat_minor": 2
}
